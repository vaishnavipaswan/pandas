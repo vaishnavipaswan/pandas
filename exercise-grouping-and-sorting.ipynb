{
 "cells": [
  {
   "cell_type": "markdown",
   "id": "eb10d2fa",
   "metadata": {
    "papermill": {
     "duration": 0.005195,
     "end_time": "2025-07-26T10:42:37.235945",
     "exception": false,
     "start_time": "2025-07-26T10:42:37.230750",
     "status": "completed"
    },
    "tags": []
   },
   "source": [
    "**This notebook is an exercise in the [Pandas](https://www.kaggle.com/learn/pandas) course.  You can reference the tutorial at [this link](https://www.kaggle.com/residentmario/grouping-and-sorting).**\n",
    "\n",
    "---\n"
   ]
  },
  {
   "cell_type": "markdown",
   "id": "d2997388",
   "metadata": {
    "papermill": {
     "duration": 0.004727,
     "end_time": "2025-07-26T10:42:37.245754",
     "exception": false,
     "start_time": "2025-07-26T10:42:37.241027",
     "status": "completed"
    },
    "tags": []
   },
   "source": [
    "# Introduction\n",
    "\n",
    "In these exercises we'll apply groupwise analysis to our dataset.\n",
    "\n",
    "Run the code cell below to load the data before running the exercises."
   ]
  },
  {
   "cell_type": "code",
   "execution_count": 1,
   "id": "0095d772",
   "metadata": {
    "execution": {
     "iopub.execute_input": "2025-07-26T10:42:37.256466Z",
     "iopub.status.busy": "2025-07-26T10:42:37.256149Z",
     "iopub.status.idle": "2025-07-26T10:42:42.286622Z",
     "shell.execute_reply": "2025-07-26T10:42:42.285705Z"
    },
    "papermill": {
     "duration": 5.038002,
     "end_time": "2025-07-26T10:42:42.288538",
     "exception": false,
     "start_time": "2025-07-26T10:42:37.250536",
     "status": "completed"
    },
    "tags": []
   },
   "outputs": [
    {
     "name": "stdout",
     "output_type": "stream",
     "text": [
      "Setup complete.\n"
     ]
    },
    {
     "name": "stderr",
     "output_type": "stream",
     "text": [
      "/usr/local/lib/python3.11/dist-packages/learntools/pandas/grouping_and_sorting.py:29: FutureWarning: The provided callable <built-in function min> is currently using SeriesGroupBy.min. In a future version of pandas, the provided callable will be used directly. To keep current behavior pass the string \"min\" instead.\n",
      "  _expected = reviews.groupby('variety').price.agg([min, max])\n",
      "/usr/local/lib/python3.11/dist-packages/learntools/pandas/grouping_and_sorting.py:29: FutureWarning: The provided callable <built-in function max> is currently using SeriesGroupBy.max. In a future version of pandas, the provided callable will be used directly. To keep current behavior pass the string \"max\" instead.\n",
      "  _expected = reviews.groupby('variety').price.agg([min, max])\n",
      "/usr/local/lib/python3.11/dist-packages/learntools/pandas/grouping_and_sorting.py:35: FutureWarning: The provided callable <built-in function min> is currently using SeriesGroupBy.min. In a future version of pandas, the provided callable will be used directly. To keep current behavior pass the string \"min\" instead.\n",
      "  _expected = reviews.groupby('variety').price.agg([min, max]).sort_values(by=['min', 'max'], ascending=False)\n",
      "/usr/local/lib/python3.11/dist-packages/learntools/pandas/grouping_and_sorting.py:35: FutureWarning: The provided callable <built-in function max> is currently using SeriesGroupBy.max. In a future version of pandas, the provided callable will be used directly. To keep current behavior pass the string \"max\" instead.\n",
      "  _expected = reviews.groupby('variety').price.agg([min, max]).sort_values(by=['min', 'max'], ascending=False)\n"
     ]
    }
   ],
   "source": [
    "import pandas as pd\n",
    "\n",
    "reviews = pd.read_csv(\"../input/wine-reviews/winemag-data-130k-v2.csv\", index_col=0)\n",
    "#pd.set_option(\"display.max_rows\", 5)\n",
    "\n",
    "from learntools.core import binder; binder.bind(globals())\n",
    "from learntools.pandas.grouping_and_sorting import *\n",
    "print(\"Setup complete.\")"
   ]
  },
  {
   "cell_type": "markdown",
   "id": "9df5986b",
   "metadata": {
    "papermill": {
     "duration": 0.004328,
     "end_time": "2025-07-26T10:42:42.298012",
     "exception": false,
     "start_time": "2025-07-26T10:42:42.293684",
     "status": "completed"
    },
    "tags": []
   },
   "source": [
    "# Exercises"
   ]
  },
  {
   "cell_type": "markdown",
   "id": "7d78011b",
   "metadata": {
    "papermill": {
     "duration": 0.004178,
     "end_time": "2025-07-26T10:42:42.307035",
     "exception": false,
     "start_time": "2025-07-26T10:42:42.302857",
     "status": "completed"
    },
    "tags": []
   },
   "source": [
    "## 1.\n",
    "Who are the most common wine reviewers in the dataset? Create a `Series` whose index is the `taster_twitter_handle` category from the dataset, and whose values count how many reviews each person wrote."
   ]
  },
  {
   "cell_type": "code",
   "execution_count": 2,
   "id": "b2a0ca76",
   "metadata": {
    "execution": {
     "iopub.execute_input": "2025-07-26T10:42:42.317540Z",
     "iopub.status.busy": "2025-07-26T10:42:42.317204Z",
     "iopub.status.idle": "2025-07-26T10:42:42.343382Z",
     "shell.execute_reply": "2025-07-26T10:42:42.342538Z"
    },
    "papermill": {
     "duration": 0.033339,
     "end_time": "2025-07-26T10:42:42.344920",
     "exception": false,
     "start_time": "2025-07-26T10:42:42.311581",
     "status": "completed"
    },
    "tags": []
   },
   "outputs": [
    {
     "data": {
      "application/javascript": [
       "parent.postMessage({\"jupyterEvent\": \"custom.exercise_interaction\", \"data\": {\"outcomeType\": 1, \"valueTowardsCompletion\": 0.16666666666666666, \"interactionType\": 1, \"questionType\": 1, \"questionId\": \"1_ReviewsWritten\", \"learnToolsVersion\": \"0.3.5\", \"failureMessage\": \"\", \"exceptionClass\": \"\", \"trace\": \"\"}}, \"*\")"
      ],
      "text/plain": [
       "<IPython.core.display.Javascript object>"
      ]
     },
     "metadata": {},
     "output_type": "display_data"
    },
    {
     "data": {
      "text/markdown": [
       "<span style=\"color:#33cc33\">Correct:</span> \n",
       "\n",
       "\n",
       "```python\n",
       "reviews_written = reviews.groupby('taster_twitter_handle').size()\n",
       "```\n",
       "or\n",
       "```python\n",
       "reviews_written = reviews.groupby('taster_twitter_handle').taster_twitter_handle.count()\n",
       "```\n"
      ],
      "text/plain": [
       "Correct: \n",
       "\n",
       "\n",
       "```python\n",
       "reviews_written = reviews.groupby('taster_twitter_handle').size()\n",
       "```\n",
       "or\n",
       "```python\n",
       "reviews_written = reviews.groupby('taster_twitter_handle').taster_twitter_handle.count()\n",
       "```"
      ]
     },
     "metadata": {},
     "output_type": "display_data"
    }
   ],
   "source": [
    "# Your code here\n",
    "reviews_written = reviews.groupby(\"taster_twitter_handle\").taster_twitter_handle.count()\n",
    "\n",
    "# Check your answer\n",
    "q1.check()"
   ]
  },
  {
   "cell_type": "code",
   "execution_count": 3,
   "id": "39ff1b6c",
   "metadata": {
    "execution": {
     "iopub.execute_input": "2025-07-26T10:42:42.356214Z",
     "iopub.status.busy": "2025-07-26T10:42:42.355425Z",
     "iopub.status.idle": "2025-07-26T10:42:42.359388Z",
     "shell.execute_reply": "2025-07-26T10:42:42.358627Z"
    },
    "papermill": {
     "duration": 0.011026,
     "end_time": "2025-07-26T10:42:42.360776",
     "exception": false,
     "start_time": "2025-07-26T10:42:42.349750",
     "status": "completed"
    },
    "tags": []
   },
   "outputs": [],
   "source": [
    "#q1.hint()\n",
    "#q1.solution()"
   ]
  },
  {
   "cell_type": "markdown",
   "id": "d955d588",
   "metadata": {
    "papermill": {
     "duration": 0.005156,
     "end_time": "2025-07-26T10:42:42.370577",
     "exception": false,
     "start_time": "2025-07-26T10:42:42.365421",
     "status": "completed"
    },
    "tags": []
   },
   "source": [
    "## 2.\n",
    "What is the best wine I can buy for a given amount of money? Create a `Series` whose index is wine prices and whose values is the maximum number of points a wine costing that much was given in a review. Sort the values by price, ascending (so that `4.0` dollars is at the top and `3300.0` dollars is at the bottom)."
   ]
  },
  {
   "cell_type": "code",
   "execution_count": 4,
   "id": "2c27c72f",
   "metadata": {
    "execution": {
     "iopub.execute_input": "2025-07-26T10:42:42.380550Z",
     "iopub.status.busy": "2025-07-26T10:42:42.380259Z",
     "iopub.status.idle": "2025-07-26T10:42:42.391990Z",
     "shell.execute_reply": "2025-07-26T10:42:42.391130Z"
    },
    "papermill": {
     "duration": 0.018576,
     "end_time": "2025-07-26T10:42:42.393574",
     "exception": false,
     "start_time": "2025-07-26T10:42:42.374998",
     "status": "completed"
    },
    "tags": []
   },
   "outputs": [
    {
     "data": {
      "application/javascript": [
       "parent.postMessage({\"jupyterEvent\": \"custom.exercise_interaction\", \"data\": {\"outcomeType\": 1, \"valueTowardsCompletion\": 0.16666666666666666, \"interactionType\": 1, \"questionType\": 1, \"questionId\": \"2_BestRatingPerPrice\", \"learnToolsVersion\": \"0.3.5\", \"failureMessage\": \"\", \"exceptionClass\": \"\", \"trace\": \"\"}}, \"*\")"
      ],
      "text/plain": [
       "<IPython.core.display.Javascript object>"
      ]
     },
     "metadata": {},
     "output_type": "display_data"
    },
    {
     "data": {
      "text/markdown": [
       "<span style=\"color:#33cc33\">Correct</span>"
      ],
      "text/plain": [
       "Correct"
      ]
     },
     "metadata": {},
     "output_type": "display_data"
    }
   ],
   "source": [
    "best_rating_per_price = reviews.groupby(\"price\").points.max()\n",
    "\n",
    "# Check your answer\n",
    "q2.check()"
   ]
  },
  {
   "cell_type": "code",
   "execution_count": 5,
   "id": "9f3cd491",
   "metadata": {
    "execution": {
     "iopub.execute_input": "2025-07-26T10:42:42.404141Z",
     "iopub.status.busy": "2025-07-26T10:42:42.403814Z",
     "iopub.status.idle": "2025-07-26T10:42:42.407737Z",
     "shell.execute_reply": "2025-07-26T10:42:42.406910Z"
    },
    "papermill": {
     "duration": 0.010681,
     "end_time": "2025-07-26T10:42:42.409103",
     "exception": false,
     "start_time": "2025-07-26T10:42:42.398422",
     "status": "completed"
    },
    "tags": []
   },
   "outputs": [],
   "source": [
    "#q2.hint()\n",
    "#q2.solution()"
   ]
  },
  {
   "cell_type": "markdown",
   "id": "6b44c974",
   "metadata": {
    "papermill": {
     "duration": 0.004366,
     "end_time": "2025-07-26T10:42:42.418341",
     "exception": false,
     "start_time": "2025-07-26T10:42:42.413975",
     "status": "completed"
    },
    "tags": []
   },
   "source": [
    "## 3.\n",
    "What are the minimum and maximum prices for each `variety` of wine? Create a `DataFrame` whose index is the `variety` category from the dataset and whose values are the `min` and `max` values thereof."
   ]
  },
  {
   "cell_type": "code",
   "execution_count": 6,
   "id": "bb4e837b",
   "metadata": {
    "execution": {
     "iopub.execute_input": "2025-07-26T10:42:42.428824Z",
     "iopub.status.busy": "2025-07-26T10:42:42.428515Z",
     "iopub.status.idle": "2025-07-26T10:42:42.452236Z",
     "shell.execute_reply": "2025-07-26T10:42:42.451416Z"
    },
    "papermill": {
     "duration": 0.030572,
     "end_time": "2025-07-26T10:42:42.453559",
     "exception": false,
     "start_time": "2025-07-26T10:42:42.422987",
     "status": "completed"
    },
    "tags": []
   },
   "outputs": [
    {
     "name": "stderr",
     "output_type": "stream",
     "text": [
      "/tmp/ipykernel_13/533615308.py:1: FutureWarning: The provided callable <built-in function min> is currently using SeriesGroupBy.min. In a future version of pandas, the provided callable will be used directly. To keep current behavior pass the string \"min\" instead.\n",
      "  price_extremes = reviews.groupby('variety').price.agg([min,max])\n",
      "/tmp/ipykernel_13/533615308.py:1: FutureWarning: The provided callable <built-in function max> is currently using SeriesGroupBy.max. In a future version of pandas, the provided callable will be used directly. To keep current behavior pass the string \"max\" instead.\n",
      "  price_extremes = reviews.groupby('variety').price.agg([min,max])\n"
     ]
    },
    {
     "data": {
      "application/javascript": [
       "parent.postMessage({\"jupyterEvent\": \"custom.exercise_interaction\", \"data\": {\"outcomeType\": 1, \"valueTowardsCompletion\": 0.16666666666666666, \"interactionType\": 1, \"questionType\": 1, \"questionId\": \"3_PriceExtremes\", \"learnToolsVersion\": \"0.3.5\", \"failureMessage\": \"\", \"exceptionClass\": \"\", \"trace\": \"\"}}, \"*\")"
      ],
      "text/plain": [
       "<IPython.core.display.Javascript object>"
      ]
     },
     "metadata": {},
     "output_type": "display_data"
    },
    {
     "data": {
      "text/markdown": [
       "<span style=\"color:#33cc33\">Correct</span>"
      ],
      "text/plain": [
       "Correct"
      ]
     },
     "metadata": {},
     "output_type": "display_data"
    }
   ],
   "source": [
    "price_extremes = reviews.groupby('variety').price.agg([min,max])\n",
    "\n",
    "# Check your answer\n",
    "q3.check()"
   ]
  },
  {
   "cell_type": "code",
   "execution_count": 7,
   "id": "f90402e3",
   "metadata": {
    "execution": {
     "iopub.execute_input": "2025-07-26T10:42:42.464470Z",
     "iopub.status.busy": "2025-07-26T10:42:42.464162Z",
     "iopub.status.idle": "2025-07-26T10:42:42.468159Z",
     "shell.execute_reply": "2025-07-26T10:42:42.467216Z"
    },
    "papermill": {
     "duration": 0.011179,
     "end_time": "2025-07-26T10:42:42.469650",
     "exception": false,
     "start_time": "2025-07-26T10:42:42.458471",
     "status": "completed"
    },
    "tags": []
   },
   "outputs": [],
   "source": [
    "#q3.hint()\n",
    "#q3.solution()"
   ]
  },
  {
   "cell_type": "markdown",
   "id": "b398e5a6",
   "metadata": {
    "papermill": {
     "duration": 0.004704,
     "end_time": "2025-07-26T10:42:42.479371",
     "exception": false,
     "start_time": "2025-07-26T10:42:42.474667",
     "status": "completed"
    },
    "tags": []
   },
   "source": [
    "## 4.\n",
    "What are the most expensive wine varieties? Create a variable `sorted_varieties` containing a copy of the dataframe from the previous question where varieties are sorted in descending order based on minimum price, then on maximum price (to break ties)."
   ]
  },
  {
   "cell_type": "code",
   "execution_count": 8,
   "id": "b896f8c3",
   "metadata": {
    "execution": {
     "iopub.execute_input": "2025-07-26T10:42:42.491020Z",
     "iopub.status.busy": "2025-07-26T10:42:42.490336Z",
     "iopub.status.idle": "2025-07-26T10:42:42.499758Z",
     "shell.execute_reply": "2025-07-26T10:42:42.498902Z"
    },
    "papermill": {
     "duration": 0.01712,
     "end_time": "2025-07-26T10:42:42.501233",
     "exception": false,
     "start_time": "2025-07-26T10:42:42.484113",
     "status": "completed"
    },
    "tags": []
   },
   "outputs": [
    {
     "data": {
      "application/javascript": [
       "parent.postMessage({\"jupyterEvent\": \"custom.exercise_interaction\", \"data\": {\"outcomeType\": 1, \"valueTowardsCompletion\": 0.16666666666666666, \"interactionType\": 1, \"questionType\": 1, \"questionId\": \"4_SortedVarieties\", \"learnToolsVersion\": \"0.3.5\", \"failureMessage\": \"\", \"exceptionClass\": \"\", \"trace\": \"\"}}, \"*\")"
      ],
      "text/plain": [
       "<IPython.core.display.Javascript object>"
      ]
     },
     "metadata": {},
     "output_type": "display_data"
    },
    {
     "data": {
      "text/markdown": [
       "<span style=\"color:#33cc33\">Correct</span>"
      ],
      "text/plain": [
       "Correct"
      ]
     },
     "metadata": {},
     "output_type": "display_data"
    }
   ],
   "source": [
    "sorted_varieties = price_extremes.sort_values(by=['min','max'],ascending=False)\n",
    "# Check your answer\n",
    "q4.check()"
   ]
  },
  {
   "cell_type": "code",
   "execution_count": 9,
   "id": "1bc3311e",
   "metadata": {
    "execution": {
     "iopub.execute_input": "2025-07-26T10:42:42.512955Z",
     "iopub.status.busy": "2025-07-26T10:42:42.512670Z",
     "iopub.status.idle": "2025-07-26T10:42:42.516450Z",
     "shell.execute_reply": "2025-07-26T10:42:42.515574Z"
    },
    "papermill": {
     "duration": 0.011299,
     "end_time": "2025-07-26T10:42:42.517917",
     "exception": false,
     "start_time": "2025-07-26T10:42:42.506618",
     "status": "completed"
    },
    "tags": []
   },
   "outputs": [],
   "source": [
    "#q4.hint()\n",
    "#q4.solution()"
   ]
  },
  {
   "cell_type": "markdown",
   "id": "a3792cf2",
   "metadata": {
    "papermill": {
     "duration": 0.004819,
     "end_time": "2025-07-26T10:42:42.527996",
     "exception": false,
     "start_time": "2025-07-26T10:42:42.523177",
     "status": "completed"
    },
    "tags": []
   },
   "source": [
    "## 5.\n",
    "Create a `Series` whose index is reviewers and whose values is the average review score given out by that reviewer. Hint: you will need the `taster_name` and `points` columns."
   ]
  },
  {
   "cell_type": "code",
   "execution_count": 10,
   "id": "9dc33850",
   "metadata": {
    "execution": {
     "iopub.execute_input": "2025-07-26T10:42:42.539798Z",
     "iopub.status.busy": "2025-07-26T10:42:42.539492Z",
     "iopub.status.idle": "2025-07-26T10:42:42.559292Z",
     "shell.execute_reply": "2025-07-26T10:42:42.558472Z"
    },
    "papermill": {
     "duration": 0.027623,
     "end_time": "2025-07-26T10:42:42.560658",
     "exception": false,
     "start_time": "2025-07-26T10:42:42.533035",
     "status": "completed"
    },
    "tags": []
   },
   "outputs": [
    {
     "data": {
      "application/javascript": [
       "parent.postMessage({\"jupyterEvent\": \"custom.exercise_interaction\", \"data\": {\"outcomeType\": 1, \"valueTowardsCompletion\": 0.16666666666666666, \"interactionType\": 1, \"questionType\": 1, \"questionId\": \"5_ReviewerMeanRatings\", \"learnToolsVersion\": \"0.3.5\", \"failureMessage\": \"\", \"exceptionClass\": \"\", \"trace\": \"\"}}, \"*\")"
      ],
      "text/plain": [
       "<IPython.core.display.Javascript object>"
      ]
     },
     "metadata": {},
     "output_type": "display_data"
    },
    {
     "data": {
      "text/markdown": [
       "<span style=\"color:#33cc33\">Correct</span>"
      ],
      "text/plain": [
       "Correct"
      ]
     },
     "metadata": {},
     "output_type": "display_data"
    }
   ],
   "source": [
    "reviewer_mean_ratings = reviews.groupby('taster_name').points.mean()\n",
    "\n",
    "# Check your answer\n",
    "q5.check()"
   ]
  },
  {
   "cell_type": "code",
   "execution_count": 11,
   "id": "9a87c6b2",
   "metadata": {
    "execution": {
     "iopub.execute_input": "2025-07-26T10:42:42.572920Z",
     "iopub.status.busy": "2025-07-26T10:42:42.571966Z",
     "iopub.status.idle": "2025-07-26T10:42:42.575923Z",
     "shell.execute_reply": "2025-07-26T10:42:42.575118Z"
    },
    "papermill": {
     "duration": 0.011695,
     "end_time": "2025-07-26T10:42:42.577573",
     "exception": false,
     "start_time": "2025-07-26T10:42:42.565878",
     "status": "completed"
    },
    "tags": []
   },
   "outputs": [],
   "source": [
    "#q5.hint()\n",
    "#q5.solution()"
   ]
  },
  {
   "cell_type": "markdown",
   "id": "12fcbf68",
   "metadata": {
    "papermill": {
     "duration": 0.004948,
     "end_time": "2025-07-26T10:42:42.587799",
     "exception": false,
     "start_time": "2025-07-26T10:42:42.582851",
     "status": "completed"
    },
    "tags": []
   },
   "source": [
    "Are there significant differences in the average scores assigned by the various reviewers? Run the cell below to use the `describe()` method to see a summary of the range of values."
   ]
  },
  {
   "cell_type": "code",
   "execution_count": 12,
   "id": "24e99787",
   "metadata": {
    "execution": {
     "iopub.execute_input": "2025-07-26T10:42:42.599468Z",
     "iopub.status.busy": "2025-07-26T10:42:42.599175Z",
     "iopub.status.idle": "2025-07-26T10:42:42.628257Z",
     "shell.execute_reply": "2025-07-26T10:42:42.627342Z"
    },
    "papermill": {
     "duration": 0.036604,
     "end_time": "2025-07-26T10:42:42.629622",
     "exception": false,
     "start_time": "2025-07-26T10:42:42.593018",
     "status": "completed"
    },
    "tags": []
   },
   "outputs": [
    {
     "data": {
      "text/plain": [
       "count    19.000000\n",
       "mean     88.233026\n",
       "std       1.243610\n",
       "min      85.855422\n",
       "25%      87.323501\n",
       "50%      88.536235\n",
       "75%      88.975256\n",
       "max      90.562551\n",
       "Name: points, dtype: float64"
      ]
     },
     "execution_count": 12,
     "metadata": {},
     "output_type": "execute_result"
    }
   ],
   "source": [
    "reviewer_mean_ratings.describe()"
   ]
  },
  {
   "cell_type": "markdown",
   "id": "c26a368b",
   "metadata": {
    "papermill": {
     "duration": 0.005644,
     "end_time": "2025-07-26T10:42:42.640852",
     "exception": false,
     "start_time": "2025-07-26T10:42:42.635208",
     "status": "completed"
    },
    "tags": []
   },
   "source": [
    "## 6.\n",
    "What combination of countries and varieties are most common? Create a `Series` whose index is a `MultiIndex`of `{country, variety}` pairs. For example, a pinot noir produced in the US should map to `{\"US\", \"Pinot Noir\"}`. Sort the values in the `Series` in descending order based on wine count."
   ]
  },
  {
   "cell_type": "code",
   "execution_count": 13,
   "id": "f0d0b7b9",
   "metadata": {
    "execution": {
     "iopub.execute_input": "2025-07-26T10:42:42.653281Z",
     "iopub.status.busy": "2025-07-26T10:42:42.652590Z",
     "iopub.status.idle": "2025-07-26T10:42:42.688749Z",
     "shell.execute_reply": "2025-07-26T10:42:42.687920Z"
    },
    "papermill": {
     "duration": 0.043741,
     "end_time": "2025-07-26T10:42:42.690155",
     "exception": false,
     "start_time": "2025-07-26T10:42:42.646414",
     "status": "completed"
    },
    "tags": []
   },
   "outputs": [
    {
     "data": {
      "application/javascript": [
       "parent.postMessage({\"jupyterEvent\": \"custom.exercise_interaction\", \"data\": {\"outcomeType\": 1, \"valueTowardsCompletion\": 0.16666666666666666, \"interactionType\": 1, \"questionType\": 1, \"questionId\": \"6_GroupbyCountryVariety\", \"learnToolsVersion\": \"0.3.5\", \"failureMessage\": \"\", \"exceptionClass\": \"\", \"trace\": \"\"}}, \"*\")"
      ],
      "text/plain": [
       "<IPython.core.display.Javascript object>"
      ]
     },
     "metadata": {},
     "output_type": "display_data"
    },
    {
     "data": {
      "text/markdown": [
       "<span style=\"color:#33cc33\">Correct</span>"
      ],
      "text/plain": [
       "Correct"
      ]
     },
     "metadata": {},
     "output_type": "display_data"
    }
   ],
   "source": [
    "country_variety_counts = reviews.groupby(['country','variety']).size().sort_values(ascending=False)\n",
    "\n",
    "# Check your answer\n",
    "q6.check()"
   ]
  },
  {
   "cell_type": "code",
   "execution_count": 14,
   "id": "8169be16",
   "metadata": {
    "execution": {
     "iopub.execute_input": "2025-07-26T10:42:42.702652Z",
     "iopub.status.busy": "2025-07-26T10:42:42.702382Z",
     "iopub.status.idle": "2025-07-26T10:42:42.706184Z",
     "shell.execute_reply": "2025-07-26T10:42:42.705349Z"
    },
    "papermill": {
     "duration": 0.011793,
     "end_time": "2025-07-26T10:42:42.707676",
     "exception": false,
     "start_time": "2025-07-26T10:42:42.695883",
     "status": "completed"
    },
    "tags": []
   },
   "outputs": [],
   "source": [
    "#q6.hint()\n",
    "#q6.solution()"
   ]
  },
  {
   "cell_type": "markdown",
   "id": "881443de",
   "metadata": {
    "papermill": {
     "duration": 0.005327,
     "end_time": "2025-07-26T10:42:42.718779",
     "exception": false,
     "start_time": "2025-07-26T10:42:42.713452",
     "status": "completed"
    },
    "tags": []
   },
   "source": [
    "# Keep going\n",
    "\n",
    "Move on to the [**data types and missing data**](https://www.kaggle.com/residentmario/data-types-and-missing-values)."
   ]
  },
  {
   "cell_type": "markdown",
   "id": "7870f900",
   "metadata": {
    "papermill": {
     "duration": 0.005166,
     "end_time": "2025-07-26T10:42:42.729382",
     "exception": false,
     "start_time": "2025-07-26T10:42:42.724216",
     "status": "completed"
    },
    "tags": []
   },
   "source": [
    "---\n",
    "\n",
    "\n",
    "\n",
    "\n",
    "*Have questions or comments? Visit the [course discussion forum](https://www.kaggle.com/learn/pandas/discussion) to chat with other learners.*"
   ]
  }
 ],
 "metadata": {
  "kaggle": {
   "accelerator": "none",
   "dataSources": [
    {
     "datasetId": 655,
     "sourceId": 1252,
     "sourceType": "datasetVersion"
    },
    {
     "datasetId": 2321,
     "sourceId": 3919,
     "sourceType": "datasetVersion"
    },
    {
     "datasetId": 2894,
     "sourceId": 4877,
     "sourceType": "datasetVersion"
    },
    {
     "datasetId": 3491,
     "sourceId": 5624,
     "sourceType": "datasetVersion"
    },
    {
     "datasetId": 1442,
     "sourceId": 8172,
     "sourceType": "datasetVersion"
    },
    {
     "datasetId": 9366,
     "sourceId": 13206,
     "sourceType": "datasetVersion"
    },
    {
     "datasetId": 179555,
     "sourceId": 403916,
     "sourceType": "datasetVersion"
    },
    {
     "datasetId": 4549,
     "sourceId": 466349,
     "sourceType": "datasetVersion"
    },
    {
     "datasetId": 2478,
     "sourceId": 1151655,
     "sourceType": "datasetVersion"
    },
    {
     "datasetId": 10128,
     "sourceId": 5438389,
     "sourceType": "datasetVersion"
    }
   ],
   "isGpuEnabled": false,
   "isInternetEnabled": false,
   "language": "python",
   "sourceType": "notebook"
  },
  "kernelspec": {
   "display_name": "Python 3",
   "language": "python",
   "name": "python3"
  },
  "language_info": {
   "codemirror_mode": {
    "name": "ipython",
    "version": 3
   },
   "file_extension": ".py",
   "mimetype": "text/x-python",
   "name": "python",
   "nbconvert_exporter": "python",
   "pygments_lexer": "ipython3",
   "version": "3.11.13"
  },
  "papermill": {
   "default_parameters": {},
   "duration": 10.855505,
   "end_time": "2025-07-26T10:42:43.355431",
   "environment_variables": {},
   "exception": null,
   "input_path": "__notebook__.ipynb",
   "output_path": "__notebook__.ipynb",
   "parameters": {},
   "start_time": "2025-07-26T10:42:32.499926",
   "version": "2.6.0"
  }
 },
 "nbformat": 4,
 "nbformat_minor": 5
}
