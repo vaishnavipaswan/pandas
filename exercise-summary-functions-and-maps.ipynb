{
 "cells": [
  {
   "cell_type": "markdown",
   "id": "9e785253",
   "metadata": {
    "papermill": {
     "duration": 0.005034,
     "end_time": "2025-07-26T09:01:45.678525",
     "exception": false,
     "start_time": "2025-07-26T09:01:45.673491",
     "status": "completed"
    },
    "tags": []
   },
   "source": [
    "**This notebook is an exercise in the [Pandas](https://www.kaggle.com/learn/pandas) course.  You can reference the tutorial at [this link](https://www.kaggle.com/residentmario/summary-functions-and-maps).**\n",
    "\n",
    "---\n"
   ]
  },
  {
   "cell_type": "markdown",
   "id": "3872170f",
   "metadata": {
    "papermill": {
     "duration": 0.004084,
     "end_time": "2025-07-26T09:01:45.687179",
     "exception": false,
     "start_time": "2025-07-26T09:01:45.683095",
     "status": "completed"
    },
    "tags": []
   },
   "source": [
    "# Introduction\n",
    "\n",
    "Now you are ready to get a deeper understanding of your data.\n",
    "\n",
    "Run the following cell to load your data and some utility functions (including code to check your answers)."
   ]
  },
  {
   "cell_type": "code",
   "execution_count": 1,
   "id": "e49b5adc",
   "metadata": {
    "execution": {
     "iopub.execute_input": "2025-07-26T09:01:45.697614Z",
     "iopub.status.busy": "2025-07-26T09:01:45.697206Z",
     "iopub.status.idle": "2025-07-26T09:01:52.675298Z",
     "shell.execute_reply": "2025-07-26T09:01:52.674304Z"
    },
    "papermill": {
     "duration": 6.984833,
     "end_time": "2025-07-26T09:01:52.676710",
     "exception": false,
     "start_time": "2025-07-26T09:01:45.691877",
     "status": "completed"
    },
    "tags": []
   },
   "outputs": [
    {
     "name": "stdout",
     "output_type": "stream",
     "text": [
      "Setup complete.\n"
     ]
    },
    {
     "name": "stderr",
     "output_type": "stream",
     "text": [
      "/usr/local/lib/python3.11/dist-packages/pandas/io/formats/format.py:1458: RuntimeWarning: invalid value encountered in greater\n",
      "  has_large_values = (abs_vals > 1e6).any()\n",
      "/usr/local/lib/python3.11/dist-packages/pandas/io/formats/format.py:1459: RuntimeWarning: invalid value encountered in less\n",
      "  has_small_values = ((abs_vals < 10 ** (-self.digits)) & (abs_vals > 0)).any()\n",
      "/usr/local/lib/python3.11/dist-packages/pandas/io/formats/format.py:1459: RuntimeWarning: invalid value encountered in greater\n",
      "  has_small_values = ((abs_vals < 10 ** (-self.digits)) & (abs_vals > 0)).any()\n"
     ]
    },
    {
     "data": {
      "text/html": [
       "<div>\n",
       "<style scoped>\n",
       "    .dataframe tbody tr th:only-of-type {\n",
       "        vertical-align: middle;\n",
       "    }\n",
       "\n",
       "    .dataframe tbody tr th {\n",
       "        vertical-align: top;\n",
       "    }\n",
       "\n",
       "    .dataframe thead th {\n",
       "        text-align: right;\n",
       "    }\n",
       "</style>\n",
       "<table border=\"1\" class=\"dataframe\">\n",
       "  <thead>\n",
       "    <tr style=\"text-align: right;\">\n",
       "      <th></th>\n",
       "      <th>country</th>\n",
       "      <th>description</th>\n",
       "      <th>designation</th>\n",
       "      <th>points</th>\n",
       "      <th>price</th>\n",
       "      <th>province</th>\n",
       "      <th>region_1</th>\n",
       "      <th>region_2</th>\n",
       "      <th>taster_name</th>\n",
       "      <th>taster_twitter_handle</th>\n",
       "      <th>title</th>\n",
       "      <th>variety</th>\n",
       "      <th>winery</th>\n",
       "    </tr>\n",
       "  </thead>\n",
       "  <tbody>\n",
       "    <tr>\n",
       "      <th>0</th>\n",
       "      <td>Italy</td>\n",
       "      <td>Aromas include tropical fruit, broom, brimston...</td>\n",
       "      <td>Vulkà Bianco</td>\n",
       "      <td>87</td>\n",
       "      <td>NaN</td>\n",
       "      <td>Sicily &amp; Sardinia</td>\n",
       "      <td>Etna</td>\n",
       "      <td>NaN</td>\n",
       "      <td>Kerin O’Keefe</td>\n",
       "      <td>@kerinokeefe</td>\n",
       "      <td>Nicosia 2013 Vulkà Bianco  (Etna)</td>\n",
       "      <td>White Blend</td>\n",
       "      <td>Nicosia</td>\n",
       "    </tr>\n",
       "    <tr>\n",
       "      <th>1</th>\n",
       "      <td>Portugal</td>\n",
       "      <td>This is ripe and fruity, a wine that is smooth...</td>\n",
       "      <td>Avidagos</td>\n",
       "      <td>87</td>\n",
       "      <td>15.0</td>\n",
       "      <td>Douro</td>\n",
       "      <td>NaN</td>\n",
       "      <td>NaN</td>\n",
       "      <td>Roger Voss</td>\n",
       "      <td>@vossroger</td>\n",
       "      <td>Quinta dos Avidagos 2011 Avidagos Red (Douro)</td>\n",
       "      <td>Portuguese Red</td>\n",
       "      <td>Quinta dos Avidagos</td>\n",
       "    </tr>\n",
       "    <tr>\n",
       "      <th>2</th>\n",
       "      <td>US</td>\n",
       "      <td>Tart and snappy, the flavors of lime flesh and...</td>\n",
       "      <td>NaN</td>\n",
       "      <td>87</td>\n",
       "      <td>14.0</td>\n",
       "      <td>Oregon</td>\n",
       "      <td>Willamette Valley</td>\n",
       "      <td>Willamette Valley</td>\n",
       "      <td>Paul Gregutt</td>\n",
       "      <td>@paulgwine</td>\n",
       "      <td>Rainstorm 2013 Pinot Gris (Willamette Valley)</td>\n",
       "      <td>Pinot Gris</td>\n",
       "      <td>Rainstorm</td>\n",
       "    </tr>\n",
       "    <tr>\n",
       "      <th>3</th>\n",
       "      <td>US</td>\n",
       "      <td>Pineapple rind, lemon pith and orange blossom ...</td>\n",
       "      <td>Reserve Late Harvest</td>\n",
       "      <td>87</td>\n",
       "      <td>13.0</td>\n",
       "      <td>Michigan</td>\n",
       "      <td>Lake Michigan Shore</td>\n",
       "      <td>NaN</td>\n",
       "      <td>Alexander Peartree</td>\n",
       "      <td>NaN</td>\n",
       "      <td>St. Julian 2013 Reserve Late Harvest Riesling ...</td>\n",
       "      <td>Riesling</td>\n",
       "      <td>St. Julian</td>\n",
       "    </tr>\n",
       "    <tr>\n",
       "      <th>4</th>\n",
       "      <td>US</td>\n",
       "      <td>Much like the regular bottling from 2012, this...</td>\n",
       "      <td>Vintner's Reserve Wild Child Block</td>\n",
       "      <td>87</td>\n",
       "      <td>65.0</td>\n",
       "      <td>Oregon</td>\n",
       "      <td>Willamette Valley</td>\n",
       "      <td>Willamette Valley</td>\n",
       "      <td>Paul Gregutt</td>\n",
       "      <td>@paulgwine</td>\n",
       "      <td>Sweet Cheeks 2012 Vintner's Reserve Wild Child...</td>\n",
       "      <td>Pinot Noir</td>\n",
       "      <td>Sweet Cheeks</td>\n",
       "    </tr>\n",
       "  </tbody>\n",
       "</table>\n",
       "</div>"
      ],
      "text/plain": [
       "    country                                        description  \\\n",
       "0     Italy  Aromas include tropical fruit, broom, brimston...   \n",
       "1  Portugal  This is ripe and fruity, a wine that is smooth...   \n",
       "2        US  Tart and snappy, the flavors of lime flesh and...   \n",
       "3        US  Pineapple rind, lemon pith and orange blossom ...   \n",
       "4        US  Much like the regular bottling from 2012, this...   \n",
       "\n",
       "                          designation  points  price           province  \\\n",
       "0                        Vulkà Bianco      87    NaN  Sicily & Sardinia   \n",
       "1                            Avidagos      87   15.0              Douro   \n",
       "2                                 NaN      87   14.0             Oregon   \n",
       "3                Reserve Late Harvest      87   13.0           Michigan   \n",
       "4  Vintner's Reserve Wild Child Block      87   65.0             Oregon   \n",
       "\n",
       "              region_1           region_2         taster_name  \\\n",
       "0                 Etna                NaN       Kerin O’Keefe   \n",
       "1                  NaN                NaN          Roger Voss   \n",
       "2    Willamette Valley  Willamette Valley        Paul Gregutt   \n",
       "3  Lake Michigan Shore                NaN  Alexander Peartree   \n",
       "4    Willamette Valley  Willamette Valley        Paul Gregutt   \n",
       "\n",
       "  taster_twitter_handle                                              title  \\\n",
       "0          @kerinokeefe                  Nicosia 2013 Vulkà Bianco  (Etna)   \n",
       "1            @vossroger      Quinta dos Avidagos 2011 Avidagos Red (Douro)   \n",
       "2           @paulgwine       Rainstorm 2013 Pinot Gris (Willamette Valley)   \n",
       "3                   NaN  St. Julian 2013 Reserve Late Harvest Riesling ...   \n",
       "4           @paulgwine   Sweet Cheeks 2012 Vintner's Reserve Wild Child...   \n",
       "\n",
       "          variety               winery  \n",
       "0     White Blend              Nicosia  \n",
       "1  Portuguese Red  Quinta dos Avidagos  \n",
       "2      Pinot Gris            Rainstorm  \n",
       "3        Riesling           St. Julian  \n",
       "4      Pinot Noir         Sweet Cheeks  "
      ]
     },
     "execution_count": 1,
     "metadata": {},
     "output_type": "execute_result"
    }
   ],
   "source": [
    "import pandas as pd\n",
    "pd.set_option(\"display.max_rows\", 5)\n",
    "reviews = pd.read_csv(\"../input/wine-reviews/winemag-data-130k-v2.csv\", index_col=0)\n",
    "\n",
    "from learntools.core import binder; binder.bind(globals())\n",
    "from learntools.pandas.summary_functions_and_maps import *\n",
    "print(\"Setup complete.\")\n",
    "\n",
    "reviews.head()"
   ]
  },
  {
   "cell_type": "markdown",
   "id": "c8542d6f",
   "metadata": {
    "papermill": {
     "duration": 0.004594,
     "end_time": "2025-07-26T09:01:52.686503",
     "exception": false,
     "start_time": "2025-07-26T09:01:52.681909",
     "status": "completed"
    },
    "tags": []
   },
   "source": [
    "# Exercises"
   ]
  },
  {
   "cell_type": "markdown",
   "id": "14e99031",
   "metadata": {
    "papermill": {
     "duration": 0.004489,
     "end_time": "2025-07-26T09:01:52.695645",
     "exception": false,
     "start_time": "2025-07-26T09:01:52.691156",
     "status": "completed"
    },
    "tags": []
   },
   "source": [
    "## 1.\n",
    "\n",
    "What is the median of the `points` column in the `reviews` DataFrame?"
   ]
  },
  {
   "cell_type": "code",
   "execution_count": 2,
   "id": "684cdcbd",
   "metadata": {
    "execution": {
     "iopub.execute_input": "2025-07-26T09:01:52.706792Z",
     "iopub.status.busy": "2025-07-26T09:01:52.706442Z",
     "iopub.status.idle": "2025-07-26T09:01:52.714583Z",
     "shell.execute_reply": "2025-07-26T09:01:52.713574Z"
    },
    "papermill": {
     "duration": 0.015813,
     "end_time": "2025-07-26T09:01:52.716284",
     "exception": false,
     "start_time": "2025-07-26T09:01:52.700471",
     "status": "completed"
    },
    "tags": []
   },
   "outputs": [
    {
     "data": {
      "application/javascript": [
       "parent.postMessage({\"jupyterEvent\": \"custom.exercise_interaction\", \"data\": {\"outcomeType\": 1, \"valueTowardsCompletion\": 0.14285714285714285, \"interactionType\": 1, \"questionType\": 1, \"questionId\": \"1_MedianPoints\", \"learnToolsVersion\": \"0.3.5\", \"failureMessage\": \"\", \"exceptionClass\": \"\", \"trace\": \"\"}}, \"*\")"
      ],
      "text/plain": [
       "<IPython.core.display.Javascript object>"
      ]
     },
     "metadata": {},
     "output_type": "display_data"
    },
    {
     "data": {
      "text/markdown": [
       "<span style=\"color:#33cc33\">Correct</span>"
      ],
      "text/plain": [
       "Correct"
      ]
     },
     "metadata": {},
     "output_type": "display_data"
    }
   ],
   "source": [
    "median_points = reviews.points.median()\n",
    "\n",
    "# Check your answer\n",
    "q1.check()"
   ]
  },
  {
   "cell_type": "code",
   "execution_count": 3,
   "id": "dd5b5130",
   "metadata": {
    "execution": {
     "iopub.execute_input": "2025-07-26T09:01:52.728154Z",
     "iopub.status.busy": "2025-07-26T09:01:52.727844Z",
     "iopub.status.idle": "2025-07-26T09:01:52.731357Z",
     "shell.execute_reply": "2025-07-26T09:01:52.730624Z"
    },
    "papermill": {
     "duration": 0.01061,
     "end_time": "2025-07-26T09:01:52.732780",
     "exception": false,
     "start_time": "2025-07-26T09:01:52.722170",
     "status": "completed"
    },
    "tags": []
   },
   "outputs": [],
   "source": [
    "#q1.hint()\n",
    "#q1.solution()"
   ]
  },
  {
   "cell_type": "markdown",
   "id": "5941e6cb",
   "metadata": {
    "papermill": {
     "duration": 0.00445,
     "end_time": "2025-07-26T09:01:52.742104",
     "exception": false,
     "start_time": "2025-07-26T09:01:52.737654",
     "status": "completed"
    },
    "tags": []
   },
   "source": [
    "## 2. \n",
    "What countries are represented in the dataset? (Your answer should not include any duplicates.)"
   ]
  },
  {
   "cell_type": "code",
   "execution_count": 4,
   "id": "f023b629",
   "metadata": {
    "execution": {
     "iopub.execute_input": "2025-07-26T09:01:52.752899Z",
     "iopub.status.busy": "2025-07-26T09:01:52.752563Z",
     "iopub.status.idle": "2025-07-26T09:01:52.765458Z",
     "shell.execute_reply": "2025-07-26T09:01:52.764685Z"
    },
    "papermill": {
     "duration": 0.020281,
     "end_time": "2025-07-26T09:01:52.767069",
     "exception": false,
     "start_time": "2025-07-26T09:01:52.746788",
     "status": "completed"
    },
    "tags": []
   },
   "outputs": [
    {
     "data": {
      "application/javascript": [
       "parent.postMessage({\"jupyterEvent\": \"custom.exercise_interaction\", \"data\": {\"outcomeType\": 1, \"valueTowardsCompletion\": 0.14285714285714285, \"interactionType\": 1, \"questionType\": 2, \"questionId\": \"2_UniqueCountries\", \"learnToolsVersion\": \"0.3.5\", \"failureMessage\": \"\", \"exceptionClass\": \"\", \"trace\": \"\"}}, \"*\")"
      ],
      "text/plain": [
       "<IPython.core.display.Javascript object>"
      ]
     },
     "metadata": {},
     "output_type": "display_data"
    },
    {
     "data": {
      "text/markdown": [
       "<span style=\"color:#33cc33\">Correct</span>"
      ],
      "text/plain": [
       "Correct"
      ]
     },
     "metadata": {},
     "output_type": "display_data"
    }
   ],
   "source": [
    "countries = reviews.country.unique()\n",
    "\n",
    "# Check your answer\n",
    "q2.check()"
   ]
  },
  {
   "cell_type": "code",
   "execution_count": 5,
   "id": "577744b9",
   "metadata": {
    "execution": {
     "iopub.execute_input": "2025-07-26T09:01:52.778363Z",
     "iopub.status.busy": "2025-07-26T09:01:52.778022Z",
     "iopub.status.idle": "2025-07-26T09:01:52.781930Z",
     "shell.execute_reply": "2025-07-26T09:01:52.781114Z"
    },
    "papermill": {
     "duration": 0.011065,
     "end_time": "2025-07-26T09:01:52.783290",
     "exception": false,
     "start_time": "2025-07-26T09:01:52.772225",
     "status": "completed"
    },
    "tags": []
   },
   "outputs": [],
   "source": [
    "#q2.hint()\n",
    "#q2.solution()"
   ]
  },
  {
   "cell_type": "markdown",
   "id": "97f5c7de",
   "metadata": {
    "papermill": {
     "duration": 0.004958,
     "end_time": "2025-07-26T09:01:52.793389",
     "exception": false,
     "start_time": "2025-07-26T09:01:52.788431",
     "status": "completed"
    },
    "tags": []
   },
   "source": [
    "## 3.\n",
    "How often does each country appear in the dataset? Create a Series `reviews_per_country` mapping countries to the count of reviews of wines from that country."
   ]
  },
  {
   "cell_type": "code",
   "execution_count": 6,
   "id": "a2f5dda3",
   "metadata": {
    "execution": {
     "iopub.execute_input": "2025-07-26T09:01:52.804711Z",
     "iopub.status.busy": "2025-07-26T09:01:52.803923Z",
     "iopub.status.idle": "2025-07-26T09:01:52.821743Z",
     "shell.execute_reply": "2025-07-26T09:01:52.820999Z"
    },
    "papermill": {
     "duration": 0.024778,
     "end_time": "2025-07-26T09:01:52.823064",
     "exception": false,
     "start_time": "2025-07-26T09:01:52.798286",
     "status": "completed"
    },
    "tags": []
   },
   "outputs": [
    {
     "data": {
      "application/javascript": [
       "parent.postMessage({\"jupyterEvent\": \"custom.exercise_interaction\", \"data\": {\"outcomeType\": 1, \"valueTowardsCompletion\": 0.14285714285714285, \"interactionType\": 1, \"questionType\": 1, \"questionId\": \"3_ReviewsPerCountry\", \"learnToolsVersion\": \"0.3.5\", \"failureMessage\": \"\", \"exceptionClass\": \"\", \"trace\": \"\"}}, \"*\")"
      ],
      "text/plain": [
       "<IPython.core.display.Javascript object>"
      ]
     },
     "metadata": {},
     "output_type": "display_data"
    },
    {
     "data": {
      "text/markdown": [
       "<span style=\"color:#33cc33\">Correct</span>"
      ],
      "text/plain": [
       "Correct"
      ]
     },
     "metadata": {},
     "output_type": "display_data"
    }
   ],
   "source": [
    "reviews_per_country = reviews.country.value_counts()\n",
    "\n",
    "# Check your answer\n",
    "q3.check()"
   ]
  },
  {
   "cell_type": "code",
   "execution_count": 7,
   "id": "5d0fa6df",
   "metadata": {
    "execution": {
     "iopub.execute_input": "2025-07-26T09:01:52.834859Z",
     "iopub.status.busy": "2025-07-26T09:01:52.834417Z",
     "iopub.status.idle": "2025-07-26T09:01:52.838041Z",
     "shell.execute_reply": "2025-07-26T09:01:52.837380Z"
    },
    "papermill": {
     "duration": 0.010951,
     "end_time": "2025-07-26T09:01:52.839366",
     "exception": false,
     "start_time": "2025-07-26T09:01:52.828415",
     "status": "completed"
    },
    "tags": []
   },
   "outputs": [],
   "source": [
    "#q3.hint()\n",
    "#q3.solution()"
   ]
  },
  {
   "cell_type": "markdown",
   "id": "936da1d5",
   "metadata": {
    "papermill": {
     "duration": 0.004739,
     "end_time": "2025-07-26T09:01:52.849257",
     "exception": false,
     "start_time": "2025-07-26T09:01:52.844518",
     "status": "completed"
    },
    "tags": []
   },
   "source": [
    "## 4.\n",
    "Create variable `centered_price` containing a version of the `price` column with the mean price subtracted.\n",
    "\n",
    "(Note: this 'centering' transformation is a common preprocessing step before applying various machine learning algorithms.) "
   ]
  },
  {
   "cell_type": "code",
   "execution_count": 8,
   "id": "899810bd",
   "metadata": {
    "execution": {
     "iopub.execute_input": "2025-07-26T09:01:52.860820Z",
     "iopub.status.busy": "2025-07-26T09:01:52.860215Z",
     "iopub.status.idle": "2025-07-26T09:01:52.919945Z",
     "shell.execute_reply": "2025-07-26T09:01:52.919100Z"
    },
    "papermill": {
     "duration": 0.066914,
     "end_time": "2025-07-26T09:01:52.921261",
     "exception": false,
     "start_time": "2025-07-26T09:01:52.854347",
     "status": "completed"
    },
    "tags": []
   },
   "outputs": [
    {
     "data": {
      "application/javascript": [
       "parent.postMessage({\"jupyterEvent\": \"custom.exercise_interaction\", \"data\": {\"outcomeType\": 1, \"valueTowardsCompletion\": 0.14285714285714285, \"interactionType\": 1, \"questionType\": 1, \"questionId\": \"4_CenteredPrice\", \"learnToolsVersion\": \"0.3.5\", \"failureMessage\": \"\", \"exceptionClass\": \"\", \"trace\": \"\"}}, \"*\")"
      ],
      "text/plain": [
       "<IPython.core.display.Javascript object>"
      ]
     },
     "metadata": {},
     "output_type": "display_data"
    },
    {
     "data": {
      "text/markdown": [
       "<span style=\"color:#33cc33\">Correct</span>"
      ],
      "text/plain": [
       "Correct"
      ]
     },
     "metadata": {},
     "output_type": "display_data"
    }
   ],
   "source": [
    "mean=reviews.price.mean()\n",
    "centered_price = reviews.price.map(lambda p:p-mean)\n",
    "\n",
    "# Check your answer\n",
    "q4.check()"
   ]
  },
  {
   "cell_type": "code",
   "execution_count": 9,
   "id": "817e2dcc",
   "metadata": {
    "execution": {
     "iopub.execute_input": "2025-07-26T09:01:52.933906Z",
     "iopub.status.busy": "2025-07-26T09:01:52.933186Z",
     "iopub.status.idle": "2025-07-26T09:01:52.936936Z",
     "shell.execute_reply": "2025-07-26T09:01:52.936159Z"
    },
    "papermill": {
     "duration": 0.011134,
     "end_time": "2025-07-26T09:01:52.938191",
     "exception": false,
     "start_time": "2025-07-26T09:01:52.927057",
     "status": "completed"
    },
    "tags": []
   },
   "outputs": [],
   "source": [
    "#q4.hint()\n",
    "#q4.solution()"
   ]
  },
  {
   "cell_type": "markdown",
   "id": "97e71b9f",
   "metadata": {
    "papermill": {
     "duration": 0.004892,
     "end_time": "2025-07-26T09:01:52.948326",
     "exception": false,
     "start_time": "2025-07-26T09:01:52.943434",
     "status": "completed"
    },
    "tags": []
   },
   "source": [
    "## 5.\n",
    "I'm an economical wine buyer. Which wine is the \"best bargain\"? Create a variable `bargain_wine` with the title of the wine with the highest points-to-price ratio in the dataset."
   ]
  },
  {
   "cell_type": "code",
   "execution_count": 10,
   "id": "ca79fa14",
   "metadata": {
    "execution": {
     "iopub.execute_input": "2025-07-26T09:01:52.960841Z",
     "iopub.status.busy": "2025-07-26T09:01:52.960044Z",
     "iopub.status.idle": "2025-07-26T09:01:52.990331Z",
     "shell.execute_reply": "2025-07-26T09:01:52.989526Z"
    },
    "papermill": {
     "duration": 0.038073,
     "end_time": "2025-07-26T09:01:52.991908",
     "exception": false,
     "start_time": "2025-07-26T09:01:52.953835",
     "status": "completed"
    },
    "tags": []
   },
   "outputs": [
    {
     "data": {
      "application/javascript": [
       "parent.postMessage({\"jupyterEvent\": \"custom.exercise_interaction\", \"data\": {\"outcomeType\": 1, \"valueTowardsCompletion\": 0.14285714285714285, \"interactionType\": 1, \"questionType\": 2, \"questionId\": \"5_BargainWine\", \"learnToolsVersion\": \"0.3.5\", \"failureMessage\": \"\", \"exceptionClass\": \"\", \"trace\": \"\"}}, \"*\")"
      ],
      "text/plain": [
       "<IPython.core.display.Javascript object>"
      ]
     },
     "metadata": {},
     "output_type": "display_data"
    },
    {
     "data": {
      "text/markdown": [
       "<span style=\"color:#33cc33\">Correct</span>"
      ],
      "text/plain": [
       "Correct"
      ]
     },
     "metadata": {},
     "output_type": "display_data"
    }
   ],
   "source": [
    "idx=(reviews.points/reviews.price).idxmax()\n",
    "bargain_wine = reviews.loc[idx,'title']\n",
    "\n",
    "# Check your answer\n",
    "q5.check()"
   ]
  },
  {
   "cell_type": "code",
   "execution_count": 11,
   "id": "7487c0c8",
   "metadata": {
    "execution": {
     "iopub.execute_input": "2025-07-26T09:01:53.005370Z",
     "iopub.status.busy": "2025-07-26T09:01:53.004803Z",
     "iopub.status.idle": "2025-07-26T09:01:53.008484Z",
     "shell.execute_reply": "2025-07-26T09:01:53.007675Z"
    },
    "papermill": {
     "duration": 0.011563,
     "end_time": "2025-07-26T09:01:53.009974",
     "exception": false,
     "start_time": "2025-07-26T09:01:52.998411",
     "status": "completed"
    },
    "tags": []
   },
   "outputs": [],
   "source": [
    "#q5.hint()\n",
    "#q5.solution()"
   ]
  },
  {
   "cell_type": "markdown",
   "id": "991ccba0",
   "metadata": {
    "papermill": {
     "duration": 0.005315,
     "end_time": "2025-07-26T09:01:53.021185",
     "exception": false,
     "start_time": "2025-07-26T09:01:53.015870",
     "status": "completed"
    },
    "tags": []
   },
   "source": [
    "## 6.\n",
    "There are only so many words you can use when describing a bottle of wine. Is a wine more likely to be \"tropical\" or \"fruity\"? Create a Series `descriptor_counts` counting how many times each of these two words appears in the `description` column in the dataset. (For simplicity, let's ignore the capitalized versions of these words.)"
   ]
  },
  {
   "cell_type": "code",
   "execution_count": 12,
   "id": "bfe67bdc",
   "metadata": {
    "execution": {
     "iopub.execute_input": "2025-07-26T09:01:53.033520Z",
     "iopub.status.busy": "2025-07-26T09:01:53.032907Z",
     "iopub.status.idle": "2025-07-26T09:01:53.158952Z",
     "shell.execute_reply": "2025-07-26T09:01:53.158124Z"
    },
    "papermill": {
     "duration": 0.133674,
     "end_time": "2025-07-26T09:01:53.160379",
     "exception": false,
     "start_time": "2025-07-26T09:01:53.026705",
     "status": "completed"
    },
    "tags": []
   },
   "outputs": [
    {
     "data": {
      "application/javascript": [
       "parent.postMessage({\"jupyterEvent\": \"custom.exercise_interaction\", \"data\": {\"outcomeType\": 1, \"valueTowardsCompletion\": 0.14285714285714285, \"interactionType\": 1, \"questionType\": 1, \"questionId\": \"6_DescriptorCounts\", \"learnToolsVersion\": \"0.3.5\", \"failureMessage\": \"\", \"exceptionClass\": \"\", \"trace\": \"\"}}, \"*\")"
      ],
      "text/plain": [
       "<IPython.core.display.Javascript object>"
      ]
     },
     "metadata": {},
     "output_type": "display_data"
    },
    {
     "data": {
      "text/markdown": [
       "<span style=\"color:#33cc33\">Correct</span>"
      ],
      "text/plain": [
       "Correct"
      ]
     },
     "metadata": {},
     "output_type": "display_data"
    }
   ],
   "source": [
    "t=reviews.description.map(lambda p:'tropical' in p).sum()\n",
    "f=reviews.description.map(lambda p: 'fruity'in p).sum()\n",
    "descriptor_counts = pd.Series([t,f],index=['tropical','fruity'])\n",
    "# Check your answer\n",
    "q6.check()"
   ]
  },
  {
   "cell_type": "code",
   "execution_count": 13,
   "id": "415a9a56",
   "metadata": {
    "execution": {
     "iopub.execute_input": "2025-07-26T09:01:53.173019Z",
     "iopub.status.busy": "2025-07-26T09:01:53.172706Z",
     "iopub.status.idle": "2025-07-26T09:01:53.176763Z",
     "shell.execute_reply": "2025-07-26T09:01:53.175766Z"
    },
    "papermill": {
     "duration": 0.012196,
     "end_time": "2025-07-26T09:01:53.178291",
     "exception": false,
     "start_time": "2025-07-26T09:01:53.166095",
     "status": "completed"
    },
    "tags": []
   },
   "outputs": [],
   "source": [
    "#q6.hint()\n",
    "#q6.solution()"
   ]
  },
  {
   "cell_type": "markdown",
   "id": "9d0d5297",
   "metadata": {
    "papermill": {
     "duration": 0.005385,
     "end_time": "2025-07-26T09:01:53.189375",
     "exception": false,
     "start_time": "2025-07-26T09:01:53.183990",
     "status": "completed"
    },
    "tags": []
   },
   "source": [
    "## 7.\n",
    "We'd like to host these wine reviews on our website, but a rating system ranging from 80 to 100 points is too hard to understand - we'd like to translate them into simple star ratings. A score of 95 or higher counts as 3 stars, a score of at least 85 but less than 95 is 2 stars. Any other score is 1 star.\n",
    "\n",
    "Also, the Canadian Vintners Association bought a lot of ads on the site, so any wines from Canada should automatically get 3 stars, regardless of points.\n",
    "\n",
    "Create a series `star_ratings` with the number of stars corresponding to each review in the dataset."
   ]
  },
  {
   "cell_type": "code",
   "execution_count": 14,
   "id": "3d21c4dc",
   "metadata": {
    "execution": {
     "iopub.execute_input": "2025-07-26T09:01:53.201727Z",
     "iopub.status.busy": "2025-07-26T09:01:53.201410Z",
     "iopub.status.idle": "2025-07-26T09:01:55.791809Z",
     "shell.execute_reply": "2025-07-26T09:01:55.791057Z"
    },
    "papermill": {
     "duration": 2.598138,
     "end_time": "2025-07-26T09:01:55.793070",
     "exception": false,
     "start_time": "2025-07-26T09:01:53.194932",
     "status": "completed"
    },
    "tags": []
   },
   "outputs": [
    {
     "data": {
      "application/javascript": [
       "parent.postMessage({\"jupyterEvent\": \"custom.exercise_interaction\", \"data\": {\"outcomeType\": 1, \"valueTowardsCompletion\": 0.14285714285714285, \"interactionType\": 1, \"questionType\": 1, \"questionId\": \"7_StarRatings\", \"learnToolsVersion\": \"0.3.5\", \"failureMessage\": \"\", \"exceptionClass\": \"\", \"trace\": \"\"}}, \"*\")"
      ],
      "text/plain": [
       "<IPython.core.display.Javascript object>"
      ]
     },
     "metadata": {},
     "output_type": "display_data"
    },
    {
     "data": {
      "text/markdown": [
       "<span style=\"color:#33cc33\">Correct</span>"
      ],
      "text/plain": [
       "Correct"
      ]
     },
     "metadata": {},
     "output_type": "display_data"
    }
   ],
   "source": [
    "def stars(p):\n",
    "    if(p.points>=95):\n",
    "        return 3\n",
    "    elif(p.country=='Canada'):\n",
    "        return 3\n",
    "    elif(p.points>=85 & p.points<95):\n",
    "        return 2\n",
    "    elif(p.points<85):\n",
    "        return 1\n",
    "star_ratings = reviews.apply(stars,axis='columns')\n",
    "\n",
    "# Check your answer\n",
    "q7.check()"
   ]
  },
  {
   "cell_type": "code",
   "execution_count": 15,
   "id": "ae0d4378",
   "metadata": {
    "execution": {
     "iopub.execute_input": "2025-07-26T09:01:55.806238Z",
     "iopub.status.busy": "2025-07-26T09:01:55.805967Z",
     "iopub.status.idle": "2025-07-26T09:01:55.809541Z",
     "shell.execute_reply": "2025-07-26T09:01:55.808731Z"
    },
    "papermill": {
     "duration": 0.01209,
     "end_time": "2025-07-26T09:01:55.810957",
     "exception": false,
     "start_time": "2025-07-26T09:01:55.798867",
     "status": "completed"
    },
    "tags": []
   },
   "outputs": [],
   "source": [
    "#q7.hint()\n",
    "#q7.solution()"
   ]
  },
  {
   "cell_type": "markdown",
   "id": "c8007aa9",
   "metadata": {
    "papermill": {
     "duration": 0.005331,
     "end_time": "2025-07-26T09:01:55.822108",
     "exception": false,
     "start_time": "2025-07-26T09:01:55.816777",
     "status": "completed"
    },
    "tags": []
   },
   "source": [
    "# Keep going\n",
    "Continue to **[grouping and sorting](https://www.kaggle.com/residentmario/grouping-and-sorting)**."
   ]
  },
  {
   "cell_type": "markdown",
   "id": "f450624c",
   "metadata": {
    "papermill": {
     "duration": 0.005211,
     "end_time": "2025-07-26T09:01:55.832838",
     "exception": false,
     "start_time": "2025-07-26T09:01:55.827627",
     "status": "completed"
    },
    "tags": []
   },
   "source": [
    "---\n",
    "\n",
    "\n",
    "\n",
    "\n",
    "*Have questions or comments? Visit the [course discussion forum](https://www.kaggle.com/learn/pandas/discussion) to chat with other learners.*"
   ]
  }
 ],
 "metadata": {
  "kaggle": {
   "accelerator": "none",
   "dataSources": [
    {
     "datasetId": 655,
     "sourceId": 1252,
     "sourceType": "datasetVersion"
    },
    {
     "datasetId": 2321,
     "sourceId": 3919,
     "sourceType": "datasetVersion"
    },
    {
     "datasetId": 2894,
     "sourceId": 4877,
     "sourceType": "datasetVersion"
    },
    {
     "datasetId": 3491,
     "sourceId": 5624,
     "sourceType": "datasetVersion"
    },
    {
     "datasetId": 1442,
     "sourceId": 8172,
     "sourceType": "datasetVersion"
    },
    {
     "datasetId": 9366,
     "sourceId": 13206,
     "sourceType": "datasetVersion"
    },
    {
     "datasetId": 179555,
     "sourceId": 403916,
     "sourceType": "datasetVersion"
    },
    {
     "datasetId": 4549,
     "sourceId": 466349,
     "sourceType": "datasetVersion"
    },
    {
     "datasetId": 2478,
     "sourceId": 1151655,
     "sourceType": "datasetVersion"
    },
    {
     "datasetId": 10128,
     "sourceId": 5438389,
     "sourceType": "datasetVersion"
    }
   ],
   "isGpuEnabled": false,
   "isInternetEnabled": false,
   "language": "python",
   "sourceType": "notebook"
  },
  "kernelspec": {
   "display_name": "Python 3",
   "language": "python",
   "name": "python3"
  },
  "language_info": {
   "codemirror_mode": {
    "name": "ipython",
    "version": 3
   },
   "file_extension": ".py",
   "mimetype": "text/x-python",
   "name": "python",
   "nbconvert_exporter": "python",
   "pygments_lexer": "ipython3",
   "version": "3.11.13"
  },
  "papermill": {
   "default_parameters": {},
   "duration": 15.345949,
   "end_time": "2025-07-26T09:01:56.358215",
   "environment_variables": {},
   "exception": null,
   "input_path": "__notebook__.ipynb",
   "output_path": "__notebook__.ipynb",
   "parameters": {},
   "start_time": "2025-07-26T09:01:41.012266",
   "version": "2.6.0"
  }
 },
 "nbformat": 4,
 "nbformat_minor": 5
}
