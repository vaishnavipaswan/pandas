{
 "cells": [
  {
   "cell_type": "markdown",
   "id": "65079e46",
   "metadata": {
    "papermill": {
     "duration": 0.004215,
     "end_time": "2025-07-26T19:17:18.875123",
     "exception": false,
     "start_time": "2025-07-26T19:17:18.870908",
     "status": "completed"
    },
    "tags": []
   },
   "source": [
    "**This notebook is an exercise in the [Pandas](https://www.kaggle.com/learn/pandas) course.  You can reference the tutorial at [this link](https://www.kaggle.com/residentmario/data-types-and-missing-values).**\n",
    "\n",
    "---\n"
   ]
  },
  {
   "cell_type": "markdown",
   "id": "be716054",
   "metadata": {
    "papermill": {
     "duration": 0.003209,
     "end_time": "2025-07-26T19:17:18.881977",
     "exception": false,
     "start_time": "2025-07-26T19:17:18.878768",
     "status": "completed"
    },
    "tags": []
   },
   "source": [
    "# Introduction\n",
    "\n",
    "Run the following cell to load your data and some utility functions."
   ]
  },
  {
   "cell_type": "code",
   "execution_count": 1,
   "id": "3024c472",
   "metadata": {
    "execution": {
     "iopub.execute_input": "2025-07-26T19:17:18.890263Z",
     "iopub.status.busy": "2025-07-26T19:17:18.889907Z",
     "iopub.status.idle": "2025-07-26T19:17:24.171915Z",
     "shell.execute_reply": "2025-07-26T19:17:24.170812Z"
    },
    "papermill": {
     "duration": 5.288245,
     "end_time": "2025-07-26T19:17:24.173701",
     "exception": false,
     "start_time": "2025-07-26T19:17:18.885456",
     "status": "completed"
    },
    "tags": []
   },
   "outputs": [
    {
     "name": "stdout",
     "output_type": "stream",
     "text": [
      "Setup complete.\n"
     ]
    }
   ],
   "source": [
    "import pandas as pd\n",
    "\n",
    "reviews = pd.read_csv(\"../input/wine-reviews/winemag-data-130k-v2.csv\", index_col=0)\n",
    "\n",
    "from learntools.core import binder; binder.bind(globals())\n",
    "from learntools.pandas.data_types_and_missing_data import *\n",
    "print(\"Setup complete.\")"
   ]
  },
  {
   "cell_type": "markdown",
   "id": "845b96d1",
   "metadata": {
    "papermill": {
     "duration": 0.003407,
     "end_time": "2025-07-26T19:17:24.180964",
     "exception": false,
     "start_time": "2025-07-26T19:17:24.177557",
     "status": "completed"
    },
    "tags": []
   },
   "source": [
    "# Exercises"
   ]
  },
  {
   "cell_type": "markdown",
   "id": "6ffd5cf0",
   "metadata": {
    "papermill": {
     "duration": 0.003041,
     "end_time": "2025-07-26T19:17:24.187415",
     "exception": false,
     "start_time": "2025-07-26T19:17:24.184374",
     "status": "completed"
    },
    "tags": []
   },
   "source": [
    "## 1. \n",
    "What is the data type of the `points` column in the dataset?"
   ]
  },
  {
   "cell_type": "code",
   "execution_count": 2,
   "id": "8a8029c3",
   "metadata": {
    "execution": {
     "iopub.execute_input": "2025-07-26T19:17:24.195558Z",
     "iopub.status.busy": "2025-07-26T19:17:24.195187Z",
     "iopub.status.idle": "2025-07-26T19:17:24.203446Z",
     "shell.execute_reply": "2025-07-26T19:17:24.202601Z"
    },
    "papermill": {
     "duration": 0.014218,
     "end_time": "2025-07-26T19:17:24.204965",
     "exception": false,
     "start_time": "2025-07-26T19:17:24.190747",
     "status": "completed"
    },
    "tags": []
   },
   "outputs": [
    {
     "data": {
      "application/javascript": [
       "parent.postMessage({\"jupyterEvent\": \"custom.exercise_interaction\", \"data\": {\"outcomeType\": 1, \"valueTowardsCompletion\": 0.25, \"interactionType\": 1, \"questionType\": 1, \"questionId\": \"1_PointsDtype\", \"learnToolsVersion\": \"0.3.5\", \"failureMessage\": \"\", \"exceptionClass\": \"\", \"trace\": \"\"}}, \"*\")"
      ],
      "text/plain": [
       "<IPython.core.display.Javascript object>"
      ]
     },
     "metadata": {},
     "output_type": "display_data"
    },
    {
     "data": {
      "text/markdown": [
       "<span style=\"color:#33cc33\">Correct</span>"
      ],
      "text/plain": [
       "Correct"
      ]
     },
     "metadata": {},
     "output_type": "display_data"
    }
   ],
   "source": [
    "# Your code here\n",
    "dtype = reviews.points.dtype\n",
    "\n",
    "# Check your answer\n",
    "q1.check()"
   ]
  },
  {
   "cell_type": "code",
   "execution_count": 3,
   "id": "7aacf2f5",
   "metadata": {
    "execution": {
     "iopub.execute_input": "2025-07-26T19:17:24.213330Z",
     "iopub.status.busy": "2025-07-26T19:17:24.213003Z",
     "iopub.status.idle": "2025-07-26T19:17:24.216886Z",
     "shell.execute_reply": "2025-07-26T19:17:24.216044Z"
    },
    "papermill": {
     "duration": 0.009786,
     "end_time": "2025-07-26T19:17:24.218461",
     "exception": false,
     "start_time": "2025-07-26T19:17:24.208675",
     "status": "completed"
    },
    "tags": []
   },
   "outputs": [],
   "source": [
    "#q1.hint()\n",
    "#q1.solution()"
   ]
  },
  {
   "cell_type": "markdown",
   "id": "b6a27382",
   "metadata": {
    "papermill": {
     "duration": 0.003321,
     "end_time": "2025-07-26T19:17:24.225392",
     "exception": false,
     "start_time": "2025-07-26T19:17:24.222071",
     "status": "completed"
    },
    "tags": []
   },
   "source": [
    "## 2. \n",
    "Create a Series from entries in the `points` column, but convert the entries to strings. Hint: strings are `str` in native Python."
   ]
  },
  {
   "cell_type": "code",
   "execution_count": 4,
   "id": "0c342aef",
   "metadata": {
    "execution": {
     "iopub.execute_input": "2025-07-26T19:17:24.233991Z",
     "iopub.status.busy": "2025-07-26T19:17:24.233548Z",
     "iopub.status.idle": "2025-07-26T19:17:24.277368Z",
     "shell.execute_reply": "2025-07-26T19:17:24.276293Z"
    },
    "papermill": {
     "duration": 0.049741,
     "end_time": "2025-07-26T19:17:24.278806",
     "exception": false,
     "start_time": "2025-07-26T19:17:24.229065",
     "status": "completed"
    },
    "tags": []
   },
   "outputs": [
    {
     "data": {
      "application/javascript": [
       "parent.postMessage({\"jupyterEvent\": \"custom.exercise_interaction\", \"data\": {\"outcomeType\": 1, \"valueTowardsCompletion\": 0.25, \"interactionType\": 1, \"questionType\": 1, \"questionId\": \"2_StrPoints\", \"learnToolsVersion\": \"0.3.5\", \"failureMessage\": \"\", \"exceptionClass\": \"\", \"trace\": \"\"}}, \"*\")"
      ],
      "text/plain": [
       "<IPython.core.display.Javascript object>"
      ]
     },
     "metadata": {},
     "output_type": "display_data"
    },
    {
     "data": {
      "text/markdown": [
       "<span style=\"color:#33cc33\">Correct</span>"
      ],
      "text/plain": [
       "Correct"
      ]
     },
     "metadata": {},
     "output_type": "display_data"
    }
   ],
   "source": [
    "point_strings = reviews.points.astype('str')\n",
    "\n",
    "# Check your answer\n",
    "q2.check()"
   ]
  },
  {
   "cell_type": "code",
   "execution_count": 5,
   "id": "aa7773b8",
   "metadata": {
    "execution": {
     "iopub.execute_input": "2025-07-26T19:17:24.288615Z",
     "iopub.status.busy": "2025-07-26T19:17:24.288054Z",
     "iopub.status.idle": "2025-07-26T19:17:24.292796Z",
     "shell.execute_reply": "2025-07-26T19:17:24.291863Z"
    },
    "papermill": {
     "duration": 0.010824,
     "end_time": "2025-07-26T19:17:24.294323",
     "exception": false,
     "start_time": "2025-07-26T19:17:24.283499",
     "status": "completed"
    },
    "tags": []
   },
   "outputs": [],
   "source": [
    "#q2.hint()\n",
    "#q2.solution()"
   ]
  },
  {
   "cell_type": "markdown",
   "id": "e451a69b",
   "metadata": {
    "papermill": {
     "duration": 0.00359,
     "end_time": "2025-07-26T19:17:24.301696",
     "exception": false,
     "start_time": "2025-07-26T19:17:24.298106",
     "status": "completed"
    },
    "tags": []
   },
   "source": [
    "## 3.\n",
    "Sometimes the price column is null. How many reviews in the dataset are missing a price?"
   ]
  },
  {
   "cell_type": "code",
   "execution_count": 6,
   "id": "bcf0c677",
   "metadata": {
    "execution": {
     "iopub.execute_input": "2025-07-26T19:17:24.310075Z",
     "iopub.status.busy": "2025-07-26T19:17:24.309791Z",
     "iopub.status.idle": "2025-07-26T19:17:24.325245Z",
     "shell.execute_reply": "2025-07-26T19:17:24.324364Z"
    },
    "papermill": {
     "duration": 0.02149,
     "end_time": "2025-07-26T19:17:24.326870",
     "exception": false,
     "start_time": "2025-07-26T19:17:24.305380",
     "status": "completed"
    },
    "tags": []
   },
   "outputs": [
    {
     "data": {
      "application/javascript": [
       "parent.postMessage({\"jupyterEvent\": \"custom.exercise_interaction\", \"data\": {\"outcomeType\": 1, \"valueTowardsCompletion\": 0.25, \"interactionType\": 1, \"questionType\": 1, \"questionId\": \"3_CountMissingPrices\", \"learnToolsVersion\": \"0.3.5\", \"failureMessage\": \"\", \"exceptionClass\": \"\", \"trace\": \"\"}}, \"*\")"
      ],
      "text/plain": [
       "<IPython.core.display.Javascript object>"
      ]
     },
     "metadata": {},
     "output_type": "display_data"
    },
    {
     "data": {
      "text/markdown": [
       "<span style=\"color:#33cc33\">Correct</span>"
      ],
      "text/plain": [
       "Correct"
      ]
     },
     "metadata": {},
     "output_type": "display_data"
    }
   ],
   "source": [
    "n_missing_prices = len(reviews[reviews.price.isnull()])\n",
    "\n",
    "# Check your answer\n",
    "q3.check()"
   ]
  },
  {
   "cell_type": "code",
   "execution_count": 7,
   "id": "2dc1abf6",
   "metadata": {
    "execution": {
     "iopub.execute_input": "2025-07-26T19:17:24.336005Z",
     "iopub.status.busy": "2025-07-26T19:17:24.335691Z",
     "iopub.status.idle": "2025-07-26T19:17:24.339640Z",
     "shell.execute_reply": "2025-07-26T19:17:24.338793Z"
    },
    "papermill": {
     "duration": 0.010179,
     "end_time": "2025-07-26T19:17:24.341082",
     "exception": false,
     "start_time": "2025-07-26T19:17:24.330903",
     "status": "completed"
    },
    "tags": []
   },
   "outputs": [],
   "source": [
    "#q3.hint()\n",
    "#q3.solution()"
   ]
  },
  {
   "cell_type": "markdown",
   "id": "c90c9906",
   "metadata": {
    "papermill": {
     "duration": 0.003959,
     "end_time": "2025-07-26T19:17:24.349145",
     "exception": false,
     "start_time": "2025-07-26T19:17:24.345186",
     "status": "completed"
    },
    "tags": []
   },
   "source": [
    "## 4.\n",
    "What are the most common wine-producing regions? Create a Series counting the number of times each value occurs in the `region_1` field. This field is often missing data, so replace missing values with `Unknown`. Sort in descending order.  Your output should look something like this:\n",
    "\n",
    "```\n",
    "Unknown                    21247\n",
    "Napa Valley                 4480\n",
    "                           ...  \n",
    "Bardolino Superiore            1\n",
    "Primitivo del Tarantino        1\n",
    "Name: region_1, Length: 1230, dtype: int64\n",
    "```"
   ]
  },
  {
   "cell_type": "code",
   "execution_count": 8,
   "id": "85b9b48b",
   "metadata": {
    "execution": {
     "iopub.execute_input": "2025-07-26T19:17:24.358364Z",
     "iopub.status.busy": "2025-07-26T19:17:24.358021Z",
     "iopub.status.idle": "2025-07-26T19:17:24.407175Z",
     "shell.execute_reply": "2025-07-26T19:17:24.406273Z"
    },
    "papermill": {
     "duration": 0.055498,
     "end_time": "2025-07-26T19:17:24.408681",
     "exception": false,
     "start_time": "2025-07-26T19:17:24.353183",
     "status": "completed"
    },
    "tags": []
   },
   "outputs": [
    {
     "data": {
      "application/javascript": [
       "parent.postMessage({\"jupyterEvent\": \"custom.exercise_interaction\", \"data\": {\"outcomeType\": 1, \"valueTowardsCompletion\": 0.25, \"interactionType\": 1, \"questionType\": 2, \"questionId\": \"4_ReviewsPerRegion\", \"learnToolsVersion\": \"0.3.5\", \"failureMessage\": \"\", \"exceptionClass\": \"\", \"trace\": \"\"}}, \"*\")"
      ],
      "text/plain": [
       "<IPython.core.display.Javascript object>"
      ]
     },
     "metadata": {},
     "output_type": "display_data"
    },
    {
     "data": {
      "text/markdown": [
       "<span style=\"color:#33cc33\">Correct</span>"
      ],
      "text/plain": [
       "Correct"
      ]
     },
     "metadata": {},
     "output_type": "display_data"
    }
   ],
   "source": [
    "r=reviews.region_1.fillna('Unknown').value_counts()\n",
    "reviews_per_region = r.sort_values(ascending=False)\n",
    "\n",
    "\n",
    "# Check your answer\n",
    "q4.check()"
   ]
  },
  {
   "cell_type": "code",
   "execution_count": 9,
   "id": "f96b4174",
   "metadata": {
    "execution": {
     "iopub.execute_input": "2025-07-26T19:17:24.417924Z",
     "iopub.status.busy": "2025-07-26T19:17:24.417648Z",
     "iopub.status.idle": "2025-07-26T19:17:24.421544Z",
     "shell.execute_reply": "2025-07-26T19:17:24.420673Z"
    },
    "papermill": {
     "duration": 0.010137,
     "end_time": "2025-07-26T19:17:24.422949",
     "exception": false,
     "start_time": "2025-07-26T19:17:24.412812",
     "status": "completed"
    },
    "tags": []
   },
   "outputs": [],
   "source": [
    "#q4.hint()\n",
    "#q4.solution()"
   ]
  },
  {
   "cell_type": "markdown",
   "id": "a228746d",
   "metadata": {
    "papermill": {
     "duration": 0.003726,
     "end_time": "2025-07-26T19:17:24.431049",
     "exception": false,
     "start_time": "2025-07-26T19:17:24.427323",
     "status": "completed"
    },
    "tags": []
   },
   "source": [
    "# Keep going\n",
    "\n",
    "Move on to **[renaming and combining](https://www.kaggle.com/residentmario/renaming-and-combining)**."
   ]
  },
  {
   "cell_type": "markdown",
   "id": "43632783",
   "metadata": {
    "papermill": {
     "duration": 0.003754,
     "end_time": "2025-07-26T19:17:24.438686",
     "exception": false,
     "start_time": "2025-07-26T19:17:24.434932",
     "status": "completed"
    },
    "tags": []
   },
   "source": [
    "---\n",
    "\n",
    "\n",
    "\n",
    "\n",
    "*Have questions or comments? Visit the [course discussion forum](https://www.kaggle.com/learn/pandas/discussion) to chat with other learners.*"
   ]
  }
 ],
 "metadata": {
  "kaggle": {
   "accelerator": "none",
   "dataSources": [
    {
     "datasetId": 655,
     "sourceId": 1252,
     "sourceType": "datasetVersion"
    },
    {
     "datasetId": 2321,
     "sourceId": 3919,
     "sourceType": "datasetVersion"
    },
    {
     "datasetId": 2894,
     "sourceId": 4877,
     "sourceType": "datasetVersion"
    },
    {
     "datasetId": 3491,
     "sourceId": 5624,
     "sourceType": "datasetVersion"
    },
    {
     "datasetId": 1442,
     "sourceId": 8172,
     "sourceType": "datasetVersion"
    },
    {
     "datasetId": 9366,
     "sourceId": 13206,
     "sourceType": "datasetVersion"
    },
    {
     "datasetId": 179555,
     "sourceId": 403916,
     "sourceType": "datasetVersion"
    },
    {
     "datasetId": 4549,
     "sourceId": 466349,
     "sourceType": "datasetVersion"
    },
    {
     "datasetId": 2478,
     "sourceId": 1151655,
     "sourceType": "datasetVersion"
    },
    {
     "datasetId": 10128,
     "sourceId": 5438389,
     "sourceType": "datasetVersion"
    }
   ],
   "isGpuEnabled": false,
   "isInternetEnabled": false,
   "language": "python",
   "sourceType": "notebook"
  },
  "kernelspec": {
   "display_name": "Python 3",
   "language": "python",
   "name": "python3"
  },
  "language_info": {
   "codemirror_mode": {
    "name": "ipython",
    "version": 3
   },
   "file_extension": ".py",
   "mimetype": "text/x-python",
   "name": "python",
   "nbconvert_exporter": "python",
   "pygments_lexer": "ipython3",
   "version": "3.11.13"
  },
  "papermill": {
   "default_parameters": {},
   "duration": 11.186543,
   "end_time": "2025-07-26T19:17:25.062418",
   "environment_variables": {},
   "exception": null,
   "input_path": "__notebook__.ipynb",
   "output_path": "__notebook__.ipynb",
   "parameters": {},
   "start_time": "2025-07-26T19:17:13.875875",
   "version": "2.6.0"
  }
 },
 "nbformat": 4,
 "nbformat_minor": 5
}
